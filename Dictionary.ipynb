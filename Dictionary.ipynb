{
 "cells": [
  {
   "cell_type": "code",
   "execution_count": null,
   "id": "3ba0332b-b82a-4201-a755-b4f80e087e35",
   "metadata": {},
   "outputs": [],
   "source": [
    "Q1.\n",
    "Characteristics of the tuples\n",
    "\n",
    "*They are indexed\n",
    "*Tuples are ordered\n",
    "*These are immutable\n",
    "*They can contain duplicate items\n"
   ]
  },
  {
   "cell_type": "code",
   "execution_count": null,
   "id": "1fd16b84-8454-42b6-b676-bfff9bf445a1",
   "metadata": {},
   "outputs": [],
   "source": [
    "Q2.\n",
    "There are two tuple methods in python.\n",
    "1.Count method Example:\n",
    "t1=( 1, 2, 3, 4, 33, 21, 45)\n",
    "t1.count(3)\n",
    "1\n",
    "\n",
    "2.Index method Example:\n",
    "t1=( true, 2, 1, 45, 76, 65.3, aishwarya)\n",
    "t1.index(2)\n",
    "1\n",
    "\n",
    "Reason:Tuples are immutable,meaning you cannot change their contents after they are created.The length of tuples is also fixed.they remain the same."
   ]
  },
  {
   "cell_type": "code",
   "execution_count": null,
   "id": "4edaf9bc-ca8b-4a87-b040-500afd9cb8ba",
   "metadata": {},
   "outputs": [],
   "source": [
    "Q3.set do not allow duplicate items in python.\n",
    "\n",
    "List = [1, 1, 1, 2, 1, 3, 1, 4, 2, 1, 2, 2, 2, 3, 2, 4, 3, 1, 3, 2, 3, 3, 3, 4, 4, 1, 4, 2, 4, 3, 4, 4]\n",
    "\n",
    "list=set(list)\n",
    "\n",
    "list\n",
    "\n",
    "{ 1, 2, 3, 4 }"
   ]
  },
  {
   "cell_type": "code",
   "execution_count": null,
   "id": "c5b36f1e-b956-4127-b3ce-f8099128396a",
   "metadata": {},
   "outputs": [],
   "source": [
    "Q4.Union and update methods\n",
    "\n",
    "1.Union method:This method is used to return the union of a set and the set of elements from one or more iterable like string, list, set.\n",
    "\n",
    "Example:\n",
    "    a = { 1, 2, 3 }\n",
    "    b = { 2, 4 }\n",
    "    X = a.Union(b)\n",
    "    print(X)\n",
    "    { 1, 2, 3, 4}\n",
    "2.Update method:This method is used to return the union of a set and the set of elements from one or more iterable like string, list, set. It is very similar to union() method, with difference is that where union() method create and return a new set, containing all the elements ( distinct ) present in all the iterables, update() method updates the set on which this method is called with all the distinct elements present in all the iterables.\n",
    "\n",
    "Example:\n",
    "     d1={ \"key1\" : \"value\" , \"key2\" : \"value2\" }\n",
    "     d2={ \"key3\" : \"value3\" , \"key4\" : \"value4\" }\n",
    "    (d1,d2)\n",
    "    ({'key1':'value','key2':'value2'},{'key3':'value3','key4':'value4'})\n",
    "    d1.Update(d2)\n",
    "    d1\n",
    "    {'key1':'value','key2':'value2','key3':'value3','key4':'value4'}\n",
    "    \n",
    "    "
   ]
  },
  {
   "cell_type": "code",
   "execution_count": null,
   "id": "280f9216-8873-41d4-b4c5-24001a87ecf9",
   "metadata": {},
   "outputs": [],
   "source": [
    "Q5.Dictionaries are used to store data values in key:value pairs. A dictionary is a collection which is ordered*, changeable and do not allow duplicates. As of Python version 3.7, dictionaries are ordered. In Python 3.6 and earlier, dictionaries are unordered.\n",
    "\n",
    "d1={\"name\":\"aishwarya\",\"surname\":\"bangi\"}\n",
    "\n",
    "d1\n",
    "\n",
    "{'name':'aishwarya','surname':'bangi'}"
   ]
  },
  {
   "cell_type": "code",
   "execution_count": null,
   "id": "250c78c7-091e-405d-9749-fb6e94de2be6",
   "metadata": {},
   "outputs": [],
   "source": [
    "Q6.yes we can create a nested dictionary.\n",
    "\n",
    "A Python nested dictionary is a dictionary within another dictionary. This lets you store data using the key-value mapping structure within an existing dictionary.\n",
    "\n",
    "Example:\n",
    "    d1={\"key\":{\"name\":\"aishwarya\",\"number\":8976508706}}\n",
    "    \n",
    "    d1\n",
    "    {'key':{'name':'aishwarya','number':8976508706}"
   ]
  },
  {
   "cell_type": "code",
   "execution_count": null,
   "id": "cbd9fba2-1631-48b8-9113-98749a055777",
   "metadata": {},
   "outputs": [],
   "source": [
    "Q7.\n",
    "\n",
    "d1 = {\"language\" : (\"Python\",\"machine learning\",\"deep learning\"), \"course\": \"Data Science Masters\"}\n",
    "\n",
    "d1\n",
    "\n",
    "{'language': ('Python', 'machine learning', 'deep learning'),'course': 'Data Science Masters'}\n",
    "\n",
    "d1.setdefault(\"language\")\n",
    "\n",
    "('Python', 'machine learning', 'deep learning')\n"
   ]
  },
  {
   "cell_type": "code",
   "execution_count": null,
   "id": "43c4ce8a-74f0-4648-813d-21c0388a2c3e",
   "metadata": {},
   "outputs": [],
   "source": [
    "Q8.The main view objects of dictionary in python are keys, values and items.\n",
    "\n",
    "d1 = {'Sport': 'Cricket' , 'Teams': ['India', 'Australia', 'England', 'South Africa', 'Sri Lanka', 'New Zealand']}\n",
    "\n",
    "d1\n",
    "\n",
    "{'Sport': 'Cricket',\n",
    " 'Teams': ['India',\n",
    "  'Australia',\n",
    "  'England',\n",
    "  'South Africa',\n",
    "  'Sri Lanka',\n",
    "  'New Zealand']}\n",
    "\n",
    "d1.keys()\n",
    "\n",
    "dict_keys(['Sport', 'Teams'])\n",
    "\n",
    "d2.values()\n",
    "\n",
    "dict_values(['Cricket', ['India', 'Australia', 'England', 'South Africa', 'Sri Lanka', 'New Zealand']])\n",
    "\n",
    "d2.items()\n",
    "\n",
    "\n",
    "dict_items([('Sport', 'Cricket'), ('Teams', ['India', 'Australia', 'England', 'South Africa', 'Sri Lanka', 'New Zealand'])])\n"
   ]
  }
 ],
 "metadata": {
  "kernelspec": {
   "display_name": "Python 3 (ipykernel)",
   "language": "python",
   "name": "python3"
  },
  "language_info": {
   "codemirror_mode": {
    "name": "ipython",
    "version": 3
   },
   "file_extension": ".py",
   "mimetype": "text/x-python",
   "name": "python",
   "nbconvert_exporter": "python",
   "pygments_lexer": "ipython3",
   "version": "3.10.8"
  }
 },
 "nbformat": 4,
 "nbformat_minor": 5
}
